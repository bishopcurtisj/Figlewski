{
 "cells": [
  {
   "cell_type": "markdown",
   "metadata": {},
   "source": [
    "# Options Arbitrage in Imperfect Markets\n",
    "\n",
    "## Stephen Figlewski"
   ]
  },
  {
   "cell_type": "markdown",
   "metadata": {},
   "source": [
    "<p style=\"text-align: center;\"><B>ABSTRACT</B></p>\n",
    "Option valuation models are based on an arbitrage strategy-hedging the option against\n",
    "the underlying asset and rebalancing continuously until expiration that is only possible\n",
    "in a frictionless market. This paper simulates the impact of market imperfections and\n",
    "other problems with the \"standard\" arbitrage trade, including uncertain volatility,\n",
    "transactions costs, indivisibilities, and rebalancing only at discrete intervals. We find\n",
    "that, in an actual market such as that for stock index options, the standard arbitrage is\n",
    "exposed to such large risk and transactions costs that it can only establish very wide\n",
    "bounds on equilibrium options prices. This has important implications for price determination in options markets, as well as for testing of valuation models."
   ]
  },
  {
   "cell_type": "markdown",
   "metadata": {},
   "source": [
    "## Summary\n",
    "\n",
    "Figlewski uses simulated data to explore the ramifications of BSM assumptions failing. He does this by simulating one month of 250 fictional assets and then examines the performance of options trading strategies under the following conditions:\n",
    "- Incorrect volatility estimates\n",
    "- Indivisible assets (hedge ratio must be rounded to full shares)\n",
    "- Transaction Costs\n",
    "    - discontinuous rebalancing as a result of transaction costs and times discrete nature.\n",
    "\n",
    "This strategy was relatively novel at the time, and remains highly informative about the power of simulation for answering questions without a closed form solution."
   ]
  },
  {
   "cell_type": "markdown",
   "metadata": {},
   "source": [
    "## Catallactic Interpretation\n",
    "\n",
    "This simulation strategy is a highly catallactic approach. That utilizes data from the as-if world proposed in the model to explore how subjective beliefs such as volatility estimates or risk aversion impact an agents decisions and how those influence prices."
   ]
  },
  {
   "cell_type": "markdown",
   "metadata": {},
   "source": [
    "## Experimental Design"
   ]
  },
  {
   "cell_type": "code",
   "execution_count": 1,
   "metadata": {},
   "outputs": [],
   "source": [
    "import numpy as np\n",
    "import pandas as pd\n",
    "import matplotlib.pyplot as plt\n",
    "import scipy.stats as stats\n",
    "from math import exp, log, sqrt, abs"
   ]
  },
  {
   "cell_type": "markdown",
   "metadata": {},
   "source": [
    "Figlewski simulated 25 days of price data for 250 assets that each had an initial value of 100.00. Each daily price after the first was calculated using the formula: \n",
    "$$P_{t+1} = P_t*e^{R+vz}$$\n",
    "Where R is the mean rate of price change per day, v is the daily volatility, and z is a draw from the standard normal distribution. R and v are set to the daily equivalent of 15% and 0.15 i.e.\n",
    "$$R = \\frac{log(1.15)}{260} = 0.000538$$\n",
    "$$v = \\frac{0.15}{260^{0.5}} = 0.0093$$\n",
    "The following code replicates this process:"
   ]
  },
  {
   "cell_type": "code",
   "execution_count": 6,
   "metadata": {},
   "outputs": [
    {
     "name": "stdout",
     "output_type": "stream",
     "text": [
      "                    Mean      Std. Dev  \n",
      "Final Price:        101.89    4.83 \n",
      "Rate of Return:     20.46     15.89\n",
      "Volatility:         0.000     0.000\n"
     ]
    }
   ],
   "source": [
    "ar=0.15\n",
    "\n",
    "R=log(1+ar)/260\n",
    "v=ar/sqrt(260)\n",
    "\n",
    "assets = np.empty((250,25))\n",
    "daily_returns = np.empty((250,25))\n",
    "for i in range(250):\n",
    "    price=np.empty(25)\n",
    "    price[0]=100\n",
    "    dr=np.empty(25)\n",
    "    dr[0]=0\n",
    "    for t in range(1,25):\n",
    "        price[t]=price[t-1]*exp(R+v*np.random.normal(0,1))\n",
    "        dr=log(price[t]/price[t-1])\n",
    "    assets[i]=price\n",
    "    daily_returns[i]=dr\n",
    "\n",
    "final_prices = assets[:,-1]\n",
    "rates_of_return = ((final_prices/assets[:,0])-1)*100\n",
    "mean_annualized_RoR = np.mean(rates_of_return)*(260/24)\n",
    "stdev_annualized_RoR = np.std(rates_of_return)*sqrt(260/24)\n",
    "\n",
    "vol=np.empty(250)\n",
    "for i in range(250):\n",
    "    vol[i]=np.std(daily_returns[i])\n",
    "\n",
    "mean_annualized_volatility=np.mean(vol)*sqrt(260/24)\n",
    "stdev_annualized_volatility=np.std(vol)*sqrt(260/24)"
   ]
  },
  {
   "cell_type": "code",
   "execution_count": 15,
   "metadata": {},
   "outputs": [
    {
     "name": "stdout",
     "output_type": "stream",
     "text": [
      "                    Mean      Std. Dev  \n",
      "────────────────────────────────────────\n",
      "Final Price:        101.89    4.83 \n",
      "Rate of Return:     20.46     15.89\n",
      "Volatility:         0.000     0.000\n"
     ]
    }
   ],
   "source": [
    "print(f\"{'' : <20}{'Mean' : <10}{'Std. Dev' : <10}\")\n",
    "print(u'\\u2500' * 40)\n",
    "print(f\"{'Final Price:': <20}{np.mean(final_prices):<10.2f}{np.std(final_prices):<5.2f}\")\n",
    "print(f\"{'Rate of Return:': <20}{mean_annualized_RoR:<10.2f}{stdev_annualized_RoR:.2f}\")\n",
    "print(f\"{'Volatility:': <20}{mean_annualized_volatility:<10.3f}{stdev_annualized_volatility:.3f}\")"
   ]
  },
  {
   "cell_type": "markdown",
   "metadata": {},
   "source": [
    "Using the simulated prices Figlewski then calculates the BSM option price and delta hedging ratio at four strike prices (91,100,103,105) using a risk-free interest rate of 5% and the true annual volatility of 0.15."
   ]
  },
  {
   "cell_type": "code",
   "execution_count": 29,
   "metadata": {},
   "outputs": [],
   "source": [
    "## Define method to calculate the price of a European call option using Black-Scholes model\n",
    "def bscall(price,strike,rfr,vol,div,T):\n",
    "    N=stats.norm.cdf\n",
    "    d1=(np.log(price/strike)+(rfr-div+vol**2/2)*T)/(vol*np.sqrt(T))\n",
    "    d2=d1-vol*np.sqrt(T)\n",
    "    call = price*np.exp(-div*T)*N(d1)-strike*np.exp(-rfr*T)*N(d2)\n",
    "    delta=N(d1)\n",
    "    return call,delta"
   ]
  },
  {
   "cell_type": "code",
   "execution_count": 9,
   "metadata": {},
   "outputs": [],
   "source": [
    "rfr=0.05\n",
    "div=0\n",
    "vol=0.15\n",
    "\n",
    "strikes=[97,100,103,105]\n",
    "option_prices=np.empty((4,250,25))\n",
    "call_deltas=np.empty((4,250,25))\n",
    "for k in range(4):\n",
    "    for i in range(250):\n",
    "        calls=np.empty(25)\n",
    "        deltas=np.empty(25)\n",
    "        for j in range(25):\n",
    "            T=(25-j)\n",
    "            price=assets[i,j]\n",
    "            calls[j], deltas[j]=bscall(price,strikes[k],rfr,vol,div,T/260)\n",
    "        option_prices[k][i]=calls\n",
    "        call_deltas[k][i]=deltas\n",
    "\n",
    "avg_option_prices=np.empty(4)\n",
    "stdev_option_prices=np.empty(4)\n",
    "for i in range(4):\n",
    "    avg_option_prices[i]=np.mean(option_prices[i])\n",
    "    stdev_option_prices[i]=np.std(option_prices[i])\n",
    "\n",
    "inTheMoney = np.empty((4,250,2))\n",
    "for i in range(4):\n",
    "    for p in range(250):\n",
    "        if final_prices[p]>strikes[i]:\n",
    "            inTheMoney[i][p][0]=1\n",
    "            inTheMoney[i][p][1]=final_prices[p]-strikes[i]\n",
    "        else:\n",
    "            inTheMoney[i][p][0]=0\n",
    "            inTheMoney[i][p][1]=0\n",
    "\n",
    "\n",
    "avg_ITM=np.empty(4)\n",
    "stdev_ITM=np.empty(4)\n",
    "num_ITM=np.empty(4)\n",
    "for i in range(4):\n",
    "    avg_ITM[i]=np.mean(inTheMoney[i,:,1]*inTheMoney[i,:,0])\n",
    "    stdev_ITM[i]=np.std(inTheMoney[i,:,0]*inTheMoney[i,:,1])\n",
    "    num_ITM[i]=np.sum(inTheMoney[i,:,0])"
   ]
  },
  {
   "cell_type": "code",
   "execution_count": 19,
   "metadata": {},
   "outputs": [
    {
     "name": "stdout",
     "output_type": "stream",
     "text": [
      "           Initial      Final Value           Overall                 In The Money          \n",
      "Strike      Price      Mean    Std. Dev    Mean    Std. Dev   Number  Avg. Amount  Std. Dev \n",
      "────────────────────────────────────────────────────────────────────────────────────────────\n",
      "97           4.06      5.33      4.16      4.57      2.80     206.0       5.30       4.18   \n",
      "100          2.10      3.11      3.34      2.48      2.17     165.0       3.07       3.36   \n",
      "103          0.89      1.47      2.34      1.10      1.43     112.0       1.42       2.35   \n",
      "105          0.44      0.77      1.69      0.56      0.99      67.0       0.72       1.69   \n"
     ]
    }
   ],
   "source": [
    "\n",
    "print(f\"{'': <10}{'Initial':^10}{'Final Value':^20}{'Overall':^20}{'In The Money':^32}\")\n",
    "print(f\"{'Strike':<10}{'Price':^10}{'Mean':^10}{'Std. Dev':^10}{'Mean':^10}{'Std. Dev':^10}{'Number':^10}{'Avg. Amount':^12}{'Std. Dev':^10}\")\n",
    "print(u'\\u2500' * 92)\n",
    "for i in range(4):\n",
    "    print(f'{strikes[i]: <10}{np.mean(option_prices[i,:,0]):^10.2f}{np.mean(option_prices[i,:,-1]):^10.2f}{np.std(option_prices[i,:,-1]):^10.2f}{avg_option_prices[i]:^10.2f}{stdev_option_prices[i]:^10.2f}{num_ITM[i]:^10}{avg_ITM[i]:^12.2f}{stdev_ITM[i]:^10.2f}')"
   ]
  },
  {
   "cell_type": "markdown",
   "metadata": {},
   "source": [
    "## Market Imperfections and Risk\n",
    "\n",
    "In order to determine the impacts of agents and market makers having different volatility estimates. Figlewski simulated the call pricing from the market makers perspective using 0.10, 0.13, 0.15, 0.17, and 0.20 as the market makers expected volatility. Figlewski then examines the resulting arbitrage opportunities that are presented by these differing priors."
   ]
  },
  {
   "cell_type": "code",
   "execution_count": 40,
   "metadata": {},
   "outputs": [
    {
     "name": "stdout",
     "output_type": "stream",
     "text": [
      "                                               Trading Strategy               Excess Return    \n",
      "Strike     Market maker     Call     Hedge                       Cost of RL\n",
      "Price       Volatility     Price     Ratio      Call     Stock    Position  $ amount  Annual % \n",
      "───────────────────────────────────────────────────────────────────────────────────────────────\n",
      "97             0.10         3.66     0.876       Buy     Sell      -74.61    0.397      4.13   \n",
      "               0.13         3.88     0.815       Buy     Sell      -74.39    0.174      1.81   \n",
      "               0.15         4.06     0.783         No Trade        74.22     0.000      0.00   \n",
      "               0.17         4.24     0.757       Sell     Buy      74.03     0.189      1.96   \n",
      "               0.20         4.55     0.726       Sell     Buy      73.73     0.490      5.10   \n",
      "\n",
      "100            0.10         1.49     0.568       Buy     Sell      -53.55    0.612      6.36   \n",
      "               0.13         1.86     0.555       Buy     Sell      -53.18    0.245      2.55   \n",
      "               0.15         2.10     0.550         No Trade        52.94     0.000      0.00   \n",
      "               0.17         2.35     0.547       Sell     Buy      52.69     0.246      2.55   \n",
      "               0.20         2.72     0.543       Sell     Buy      52.32     0.614      6.39   \n",
      "\n",
      "103            0.10         0.38     0.217       Buy     Sell      -30.16    0.507      5.27   \n",
      "               0.13         0.67     0.276       Buy     Sell      -29.87    0.213      2.21   \n",
      "               0.15         0.89     0.305         No Trade        29.66     0.000      0.00   \n",
      "               0.17         1.11     0.329       Sell     Buy      29.44     0.221      2.30   \n",
      "               0.20         1.45     0.356       Sell     Buy      29.09     0.563      5.86   \n",
      "\n",
      "105            0.10         0.11     0.080       Buy     Sell      -17.71    0.327      3.40   \n",
      "               0.13         0.29     0.142       Buy     Sell      -17.53    0.151      1.57   \n",
      "               0.15         0.44     0.178         No Trade        17.38     0.000      0.00   \n",
      "               0.17         0.61     0.210       Sell     Buy      17.21     0.170      1.77   \n",
      "               0.20         0.89     0.249       Sell     Buy      16.93     0.453      4.71   \n",
      "\n"
     ]
    }
   ],
   "source": [
    "volatilities=np.array([0.1,0.13,0.15,0.17,0.2])\n",
    "agent_prices=np.empty(4)\n",
    "agent_deltas=np.empty(4)\n",
    "for i in range(4):\n",
    "    agent_prices[i], agent_deltas[i]= bscall(100,strikes[i],rfr,0.15,div,25/260)\n",
    "\n",
    "print(f\"{'': <45}{'Trading Strategy':^20}{'':^10}{'Excess Return':^20}\")\n",
    "print(f\"{'Strike':<10}{'Market maker':^15}{'Call':^10}{'Hedge':^10}{'':^20}{'Cost of RL':^10}\")\n",
    "print(f\"{'Price':<10}{'Volatility':^15}{'Price':^10}{'Ratio':^10}{'Call':^10}{'Stock':^10}{'Position':^10}{'$ amount':^10}{'Annual %':^10}\")\n",
    "print(u'\\u2500' * 95)\n",
    "output=\"{strike:<10}{vol:^15.2f}{price:^10.2f}{delta:^10.3f}{pos:^20}{position:^10.2f}{amount:^10.3f}{annual:^10.2f}\"\n",
    "for k in range(4):\n",
    "    \n",
    "    for v in range(5):\n",
    "        price, delta = bscall(100,strikes[k],rfr,volatilities[v],div,25/260)\n",
    "        if price>agent_prices[k]:\n",
    "            trade='Sell     Buy'\n",
    "        elif price<agent_prices[k]:\n",
    "            trade='Buy     Sell'\n",
    "        else:\n",
    "            trade='No Trade'\n",
    "\n",
    "        if trade=='Buy     Sell':\n",
    "            rlp=price-agent_deltas[k]*100\n",
    "        elif trade=='Sell     Buy':\n",
    "            rlp=agent_deltas[k]*100-price\n",
    "        else:\n",
    "            rlp=agent_deltas[k]*100-price\n",
    "        profit=abs(agent_prices[k]-price)\n",
    "        ann_profit=(profit)*260/25\n",
    "        if v==0:\n",
    "            print(output.format(strike=strikes[k],vol=volatilities[v],price=price,delta=delta,pos=trade,position=rlp,amount=profit,annual=ann_profit))\n",
    "        else:\n",
    "            print(output.format(strike=' ',vol=volatilities[v],price=price,delta=delta,pos=trade,position=rlp,amount=profit,annual=ann_profit))\n",
    "    print()\n",
    " "
   ]
  },
  {
   "cell_type": "markdown",
   "metadata": {},
   "source": [
    "Whether the agent's or market maker's volatility is closer to reality is irrelevant, what this shows us is a framework for introducing subjective beliefs into a neoclassical model. Figlewski mentions that even if the true long term volatility is 0.15, the volatility during the contract period of the option may be anything. "
   ]
  },
  {
   "cell_type": "markdown",
   "metadata": {},
   "source": [
    "### Excess Returns"
   ]
  },
  {
   "cell_type": "markdown",
   "metadata": {},
   "source": [
    "The next experiment that was run showed the standard deviations of excess returns when incorrect volatility is used, hedges are only rebalanced daily, and hedge ratios are rounded to the nearest multiple of K. Excess returns can be calculated as:\n",
    "$$ER_t = (C_t - C_{t-1}) - h_{t-1}*(P_t - P_{t-1}) - r*(C_{t-1} - h_{t-1}*P_{t-1})$$\n",
    "Where C is the price of the call option, P is the price of the underlying, h is the delta-hedging ratio, and r is the daily interest rate."
   ]
  },
  {
   "cell_type": "code",
   "execution_count": 57,
   "metadata": {},
   "outputs": [],
   "source": [
    "def excess_return(option_prices, call_deltas, assets, rfr):    \n",
    "    d_excess_return= np.empty((4,250,25))\n",
    "    d_excess_return[:,:,0]=0\n",
    "    for i in range(4):\n",
    "        for j in range(250):\n",
    "            for k in range(1,25):\n",
    "                ct=option_prices[i][j][k]\n",
    "                ct1=option_prices[i][j][k-1]\n",
    "                h=call_deltas[i][j][k-1]\n",
    "                pt=assets[j][k]\n",
    "                pt1=assets[j][k-1]\n",
    "                dr=rfr/260\n",
    "                d_excess_return[i][j][k]=(ct-ct1)-h*(pt-pt1)-dr*(ct1-h*pt1)\n",
    "\n",
    "    e_r=np.empty((4,250))\n",
    "    for i in range(4):\n",
    "        for j in range(250):\n",
    "            e_r[i][j]=np.sum(d_excess_return[i][j])\n",
    "    return e_r"
   ]
  },
  {
   "cell_type": "code",
   "execution_count": 58,
   "metadata": {},
   "outputs": [],
   "source": [
    "volatilities=np.array([0.1,0.13,0.15,0.17,0.2])\n",
    "option_prices=np.empty((5,4,250,25))\n",
    "call_deltas=np.empty((5,4,250,25))\n",
    "\n",
    "for v in range(5):\n",
    "    for k in range(4):\n",
    "        for i in range(250):\n",
    "            for j in range(25):\n",
    "                T=(25-j)\n",
    "                price=assets[i,j]\n",
    "                option_prices[v][k][i][j], call_deltas[v][k][i][j]=bscall(price,strikes[k],rfr,volatilities[v],div,T/260)\n",
    "\n",
    "K=[0.02,0.05,0.10,0.25,1]\n",
    "excess_returns=np.empty((10,4,250))\n",
    "\n"
   ]
  },
  {
   "cell_type": "code",
   "execution_count": 59,
   "metadata": {},
   "outputs": [],
   "source": [
    "for i in range(5):\n",
    "    excess_returns[i]=excess_return(option_prices[i], call_deltas[i], assets, rfr)\n",
    "\n",
    "for i in range(5):\n",
    "    r_deltas=K[i] * (call_deltas/ K[i]).round()\n",
    "    excess_returns[i+5]=excess_return(option_prices[2], r_deltas[2], assets, rfr)"
   ]
  },
  {
   "cell_type": "code",
   "execution_count": 60,
   "metadata": {},
   "outputs": [],
   "source": [
    "er_std = np.empty((10,4))\n",
    "for i in range(10):\n",
    "    for j in range(4):\n",
    "        er_std[i][j]=excess_returns[i][j].std()"
   ]
  },
  {
   "cell_type": "code",
   "execution_count": 61,
   "metadata": {},
   "outputs": [
    {
     "name": "stdout",
     "output_type": "stream",
     "text": [
      "                           X = 97   X = 100   X = 103   X = 105  \n",
      "─────────────────────────────────────────────────────────────────\n",
      "Base Case                   0.23      0.30      0.27      0.24   \n",
      "Incorrect Volatility\n",
      "v = 0.10                    0.36      0.40      0.41      0.39   \n",
      "v = 0.13                    0.25      0.32      0.29      0.27   \n",
      "v = 0.15                    0.23      0.30      0.27      0.24   \n",
      "v = 0.17                    0.24      0.30      0.28      0.26   \n",
      "v = 0.20                    0.30      0.33      0.33      0.33   \n",
      "Indivisibilities\n",
      "K = 0.02                    0.23      0.30      0.27      0.24   \n",
      "K = 0.05                    0.23      0.30      0.27      0.25   \n",
      "K = 0.10                    0.24      0.33      0.30      0.26   \n",
      "K = 0.25                    0.36      0.43      0.40      0.37   \n",
      "K = 1.00                    0.90      1.39      1.39      0.96   \n"
     ]
    }
   ],
   "source": [
    "print(f\"{'': <25}{'X = 97': ^10}{'X = 100':^10}{'X = 103':^10}{'X = 105':^10}\")\n",
    "print(u'\\u2500' * 65)\n",
    "print(f\"{'Base Case':<25}{er_std[2][0]:^10.2f}{er_std[2][1]:^10.2f}{er_std[2][2]:^10.2f}{er_std[2][3]:^10.2f}\")\n",
    "print('Incorrect Volatility')\n",
    "for i in range(5):\n",
    "    print(f\"v = {volatilities[i]:<21.2f}{er_std[i][0]:^10.2f}{er_std[i][1]:^10.2f}{er_std[i][2]:^10.2f}{er_std[i][3]:^10.2f}\")\n",
    "\n",
    "print('Indivisibilities')\n",
    "for i in range(5,10):\n",
    "        print(f\"K = {K[i-5]:<21.2f}{er_std[i][0]:^10.2f}{er_std[i][1]:^10.2f}{er_std[i][2]:^10.2f}{er_std[i][3]:^10.2f}\")"
   ]
  },
  {
   "cell_type": "markdown",
   "metadata": {},
   "source": [
    "![img info](tableIII.png)"
   ]
  },
  {
   "cell_type": "markdown",
   "metadata": {},
   "source": [
    "## Transactions Costs\n",
    "\n",
    "The previous section showed that while introducing market imperfections increased the variance of outcomes, it did not bias the returns one way or the other. Transaction costs on the other hand reduce the profitability of every strategy."
   ]
  },
  {
   "cell_type": "markdown",
   "metadata": {},
   "source": [
    "![img](tableIV.png)"
   ]
  },
  {
   "cell_type": "markdown",
   "metadata": {},
   "source": [
    "Figlewski explores how these transaction costs would reduce the number of hedging updates that can be made while still maintaining profitability.\n",
    "Two common strategies for approaching this are tested and their results shown. Rebalancing every K days, and rebalancing when the hedge ratio changes by a specified amount."
   ]
  },
  {
   "cell_type": "markdown",
   "metadata": {},
   "source": [
    "## Arbitrage Bounds Based on the Standard Arbitrage\n",
    "\n",
    "This section is perhaps the most catallactic in my opinion. Table V shows the bid-ask spread of options with a 50% or 75% probability of covering costs. Taking these bid-ask spread as a subjective valuation of the asset, or a measure of risk tolerance allows us to step outside the no-trade theorem while being inside a Black-Scholes world!"
   ]
  },
  {
   "cell_type": "markdown",
   "metadata": {},
   "source": [
    "![img](tableV.png)"
   ]
  },
  {
   "cell_type": "markdown",
   "metadata": {},
   "source": [
    "## Other Option Strategies\n",
    "\n",
    "The remainder of the paper explores similar ideas with different asset types, however this portion is less key to the interpretation I aim to showcase."
   ]
  },
  {
   "cell_type": "markdown",
   "metadata": {},
   "source": [
    "![img](tableVI.png)"
   ]
  }
 ],
 "metadata": {
  "kernelspec": {
   "display_name": "base",
   "language": "python",
   "name": "python3"
  },
  "language_info": {
   "codemirror_mode": {
    "name": "ipython",
    "version": 3
   },
   "file_extension": ".py",
   "mimetype": "text/x-python",
   "name": "python",
   "nbconvert_exporter": "python",
   "pygments_lexer": "ipython3",
   "version": "3.9.18"
  }
 },
 "nbformat": 4,
 "nbformat_minor": 2
}
