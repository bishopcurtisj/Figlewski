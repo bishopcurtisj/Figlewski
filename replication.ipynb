{
 "cells": [
  {
   "cell_type": "code",
   "execution_count": 1,
   "metadata": {},
   "outputs": [],
   "source": [
    "import numpy as np\n",
    "import pandas as pd\n",
    "import matplotlib.pyplot as plt\n",
    "import scipy.stats as stats\n",
    "from math import exp, log, sqrt"
   ]
  },
  {
   "cell_type": "code",
   "execution_count": 17,
   "metadata": {},
   "outputs": [],
   "source": [
    "ar=0.15\n",
    "\n",
    "R=log(1+ar)/260\n",
    "v=ar/sqrt(260)\n",
    "\n",
    "assets = np.empty((250,25))\n",
    "daily_returns = np.empty((250,25))\n",
    "for i in range(250):\n",
    "    price=np.empty(25)\n",
    "    price[0]=100\n",
    "    dr=np.empty(25)\n",
    "    dr[0]=0\n",
    "    for t in range(1,25):\n",
    "        price[t]=price[t-1]*exp(R+v*np.random.normal(0,1))\n",
    "        dr=log(price[t]/price[t-1])\n",
    "    assets[i]=price\n",
    "    daily_returns[i]=dr"
   ]
  },
  {
   "cell_type": "code",
   "execution_count": 21,
   "metadata": {},
   "outputs": [],
   "source": [
    "final_prices = assets[:,-1]\n",
    "rates_of_return = ((final_prices/assets[:,0])-1)*100\n",
    "mean_annualized_RoR = np.mean(rates_of_return)*(260/24)\n",
    "stdev_annualized_RoR = np.std(rates_of_return)*sqrt(260/24)"
   ]
  },
  {
   "cell_type": "code",
   "execution_count": 25,
   "metadata": {},
   "outputs": [],
   "source": [
    "vol=np.empty(250)\n",
    "for i in range(250):\n",
    "    vol[i]=np.std(daily_returns[i])\n",
    "\n",
    "mean_annualized_volatility=np.mean(vol)*sqrt(260/24)\n",
    "stdev_annualized_volatility=np.std(vol)*sqrt(260/24)"
   ]
  },
  {
   "cell_type": "code",
   "execution_count": 26,
   "metadata": {},
   "outputs": [
    {
     "name": "stdout",
     "output_type": "stream",
     "text": [
      "\t\t   Mean\t\tStd. Dev.\n",
      "\n",
      "Final Price:       101.36\t4.67\n",
      "Rates of Return:   14.72\t15.37\n",
      "Volatility:        0.000\t0.000\n"
     ]
    }
   ],
   "source": [
    "print('\\t\\t   Mean\\t\\tStd. Dev.\\n')\n",
    "print(f'Final Price:       {np.mean(final_prices):.2f}\\t{np.std(final_prices):.2f}')\n",
    "print(f'Rates of Return:   {mean_annualized_RoR:.2f}\\t{stdev_annualized_RoR:.2f}')\n",
    "print(f'Volatility:        {mean_annualized_volatility:.3f}\\t{stdev_annualized_volatility:.3f}')"
   ]
  },
  {
   "cell_type": "code",
   "execution_count": 24,
   "metadata": {},
   "outputs": [],
   "source": [
    "def bscall(price,strike,rfr,vol,div,T):\n",
    "    N=stats.norm.cdf\n",
    "    d1=(np.log(price/strike)+(rfr-div+vol**2/2)*T)/(vol*np.sqrt(T))\n",
    "    d2=d1-vol*np.sqrt(T)\n",
    "    call = price*np.exp(-div*T)*N(d1)-strike*np.exp(-rfr*T)*N(d2)\n",
    "    return call"
   ]
  },
  {
   "cell_type": "code",
   "execution_count": 29,
   "metadata": {},
   "outputs": [],
   "source": [
    "rfr=0.05\n",
    "div=0\n",
    "vol=0.15\n",
    "\n",
    "strikes=[97,100,103,105]\n",
    "option_prices=np.empty((4,250,25))\n",
    "for k in strikes:\n",
    "    for i in range(250):\n",
    "        calls=np.empty(25)\n",
    "        for j in range(25):\n",
    "            T=(25-j)\n",
    "            price=assets[i,j]\n",
    "            calls[j]=bscall(price,k,rfr,vol,div,T/260)\n",
    "        option_prices[strikes.index(k)][i]=calls"
   ]
  },
  {
   "cell_type": "code",
   "execution_count": 44,
   "metadata": {},
   "outputs": [
    {
     "name": "stdout",
     "output_type": "stream",
     "text": [
      "\tInitial Price\t\tFinal Value\n",
      "\n",
      "\n",
      "\t\t\t   Mean\t\tStd. Dev.\n",
      "\n",
      "K=97:\t   4.06     \t 4.43\t 2.84\n",
      "K=100:\t   2.10     \t 2.37\t 2.23\n",
      "K=103:\t   0.89     \t 1.06\t 1.51\n",
      "K=105:\t   0.44     \t 0.56\t 1.06\n"
     ]
    }
   ],
   "source": [
    "avg_option_prices=np.empty(4)\n",
    "stdev_option_prices=np.empty(4)\n",
    "for i in range(4):\n",
    "    avg_option_prices[i]=np.mean(option_prices[i])\n",
    "    stdev_option_prices[i]=np.std(option_prices[i])\n",
    "print('\\tInitial Price\\t\\tFinal Value\\n')\n",
    "print('\\n\\t\\t\\t   Mean\\t\\tStd. Dev.\\n')\n",
    "for i in range(4):\n",
    "    print(f'K={strikes[i]}:\\t   {np.mean(option_prices[i,:,0]):.2f}     \\t {avg_option_prices[i]:.2f}\\t {stdev_option_prices[i]:.2f}')\n"
   ]
  },
  {
   "cell_type": "code",
   "execution_count": 45,
   "metadata": {},
   "outputs": [
    {
     "name": "stdout",
     "output_type": "stream",
     "text": [
      "\n",
      "\t\t   Number\t\tMean\t\tStd. Dev.\n",
      "\n",
      "K=97:\t   209.00\t\t4.77\t\t4.05\n",
      "K=100:\t   156.00\t\t2.58\t\t3.28\n",
      "K=103:\t   81.00\t\t1.19\t\t2.29\n",
      "K=105:\t   55.00\t\t0.66\t\t1.61\n"
     ]
    }
   ],
   "source": [
    "inTheMoney = np.empty((4,250,2))\n",
    "for i in range(4):\n",
    "    for p in range(250):\n",
    "        if final_prices[p]>strikes[i]:\n",
    "            inTheMoney[i][p][0]=1\n",
    "            inTheMoney[i][p][1]=final_prices[p]-strikes[i]\n",
    "        else:\n",
    "            inTheMoney[i][p][0]=0\n",
    "            inTheMoney[i][p][1]=0\n",
    "\n",
    "\n",
    "avg_ITM=np.empty(4)\n",
    "stdev_ITM=np.empty(4)\n",
    "num_ITM=np.empty(4)\n",
    "for i in range(4):\n",
    "    avg_ITM[i]=np.mean(inTheMoney[i,:,1]*inTheMoney[i,:,0])\n",
    "    stdev_ITM[i]=np.std(inTheMoney[i,:,0]*inTheMoney[i,:,1])\n",
    "    num_ITM[i]=np.sum(inTheMoney[i,:,0])\n",
    "\n",
    "print('\\n\\t\\t   Number\\t\\tMean\\t\\tStd. Dev.\\n')\n",
    "for i in range(4):\n",
    "    print(f'K={strikes[i]}:\\t   {num_ITM[i]:.2f}\\t\\t{avg_ITM[i]:.2f}\\t\\t{stdev_ITM[i]:.2f}')\n",
    "\n",
    "\n"
   ]
  }
 ],
 "metadata": {
  "kernelspec": {
   "display_name": "jax",
   "language": "python",
   "name": "python3"
  },
  "language_info": {
   "codemirror_mode": {
    "name": "ipython",
    "version": 3
   },
   "file_extension": ".py",
   "mimetype": "text/x-python",
   "name": "python",
   "nbconvert_exporter": "python",
   "pygments_lexer": "ipython3",
   "version": "3.9.18"
  }
 },
 "nbformat": 4,
 "nbformat_minor": 2
}
